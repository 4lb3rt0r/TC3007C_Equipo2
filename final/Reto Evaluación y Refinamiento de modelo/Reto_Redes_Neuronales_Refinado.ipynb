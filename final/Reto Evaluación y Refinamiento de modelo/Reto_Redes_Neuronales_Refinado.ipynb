{
  "cells": [
    {
      "cell_type": "markdown",
      "metadata": {
        "id": "59a_-74wRB6V"
      },
      "source": [
        "# **Momento de Retroalimentación: Reto Evaluación y Refinamiento de modelo**\n",
        "\n",
        "**TC3004B.104 Inteligencia Artificial Avanzada para la Ciencia de Datos**\n",
        "\n",
        "Integrantes del equipo:\n",
        "* Luis Ángel Guzmán Iribe - A01741757\n",
        "* Julian Lawrence Gil Soares - A00832272\n",
        "* Alberto H Orozco Ramos - A00831719\n",
        "\n",
        "Profesores:\n",
        "* Ivan Mauricio Amaya Contreras\n",
        "* Hugo Terashima Marín\n",
        "* Blanca Rosa Ruiz Hernandez\n",
        "* Antonio Carlos Bento\n",
        "* Frumencio Olivas Alvarez\n",
        "\n",
        "\n",
        "## Introducción\n",
        "Este documento es la última etapa para el proyecto final de la concentración de Inteligencia artificial avanzada para la ciencia de datos (TC3006C.101) del Tecnológico de Monterrey, la cual sirve como curso introductorio a temas de analitica de datos, construcción y uso de modelos de machine learning y evaluación de los mismos.\n",
        "\n",
        "Previamente se trabajó en la limpieza de un dataset, en la implementación de diferentes tecnicas de machine learning y la evaluación de las mismas para  \n",
        "\n",
        "### Reto\n",
        "\n",
        "Como proyecto final del curso, se trabaja sobre la competencia de Kaggle [Titanic - Machine Learning from Disaster](https://www.kaggle.com/competitions/titanic), la cual es conocida en circulos de machine learning como un ejercicio clasico en la introducción al tema. El reto consiste en desarrollar un modelo de machine learning capaz de predecir si un determinado pasajero del Titanic sobrevivió o falleció en el undimiento del mismo tomando en cuenta información como su sexo, edad del pasajero, número de familiares a bordo, entre otras variables.\n",
        "\n",
        "La competencia tiene como objetivo introducir a los participantes al desarrollo de modelos de machine learning por medio de la experimentación con diferentes algoritmos buscando encontrar la solución más adecuada para el reto, en el contexto del curso, sirve como una aplicación práctica de los temas vistos en clase.\n",
        "\n",
        "### Dataset\n",
        "En este proyecto se trabaja con el [dataset](https://www.kaggle.com/competitions/titanic/data) de pasajeros del Titanic, este dataset contiene las variables: *survival*, *pclass*, *sex*, *Age*, *sibsp*, *parch*, *ticket*, *fare*, *cabin* y *embarked*; puede leer más a detalle sobre el significado de cada variable en el dataset en la ligra proporcionada anteriormente, pero a modo de resumen, estas variables representan las caracteristicas de los pasajeros embarcados en el Titanic, su clase, sexo, edad, numero de familiares a bordo, el precio de su boleto, etc, meintras que la variable *survided* indica con un 0 o 1 si el pasajero sobrevivió. Es pues el objetivo del reto desarrollar un modelo que tome en cuenta las caracteristicas del pasajero para predecir el valor de la variable survived.\n",
        "\n",
        "En iteraciones anteriores del trabajo se realizzó la limpieza del dataset, en la que se explica en detalle el proceso que seguimos para decidir que variables incluir en nuestro analisis, como tratar datos atipicos, valores faltantes, etc. Puede consultar a detalle el trabajo realizado y el resultado en [este archivo](https://github.com/4lb3rt0r/TC3006_Equipo2/blob/main/retro/Limpieza%20de%20Datos/clean_training_data.ipynb).\n",
        "\n",
        "En el archivo ```train_clean.csv``` se encuentra una versión procesada del dataset original, en la que se han extraído las variables que consideramos últiles para nuestro analisis (*Survived*, *Pclass*, *Age*, *SibSp*, *Parch* y *Fare*), se tratado los valores nulos, se han convirtido variables categorigas como *cabin* y *sex* en variables dummy numericas *hasCabin* y *isFemale*.\n",
        "\n",
        "**Lectura de ```train_clean.csv```**"
      ]
    },
    {
      "cell_type": "code",
      "execution_count": null,
      "metadata": {
        "colab": {
          "base_uri": "https://localhost:8080/"
        },
        "id": "_5cB8u6_RAN6",
        "outputId": "9eb75830-7239-4f4d-8194-0eb7402a7065"
      },
      "outputs": [
        {
          "output_type": "stream",
          "name": "stdout",
          "text": [
            "Mounted at /content/drive\n"
          ]
        }
      ],
      "source": [
        "import pandas as pd\n",
        "\n",
        "# Si se trabaja en Colab\n",
        "from google.colab import drive\n",
        "drive.mount('/content/drive')\n",
        "trainig_data = pd.read_csv('/content/drive/MyDrive/Equipo 2 - TC3006/Reto - Algoritmos ML/train_clean.csv')"
      ]
    },
    {
      "cell_type": "markdown",
      "metadata": {
        "id": "v7qr6eNtRYkj"
      },
      "source": [
        "En esta sección de código se extrae el contenido de variables guardadas en el dataframe hacia arreglos de la librería *numpy*, en el arreglo ``target`` se almacena la variable objetivo *Survived*, es decir, la que nos intereza ser capaces de predecir; mientras que en ``features`` se almacenan las variables de entrada que usaremos para el entrenamiento del modelo. *Pclass, Age, SibSp, Parch, Fare, HasCabin y IsFemale*\n",
        "\n",
        "En adición a esto, se dividen los datos en 2 conjuntos, uno de entrenamiento que se compone del 80% del conjunto original de los datos y se almacena en las variables ``train_features`` y ``train_targets``, y cun conjunto de datos de prueba que se compone del 20% de los valores originales para probar el desempeño de los modelos, se almacenan en las variables ``test_features`` y ``test_targets``.\n",
        "\n",
        "Ambos conjuntos se seleccionan de manera aleatoria entre los datos, pero se selecciona una semilla (en este caso *42*) con la finalidad de que los datos sean reproducibles al volver a correr al código. Se utilizan los mismos conjuntos de entrenamiento y prueba para todos los modelos.\n",
        "\n",
        "**Diivisión en subconjuntos de entrenamiento y pruebas**<br/>\n",
        "Dentro de esta sección se realiza la separación de los datos en subsets, una para entrenamiento, otro para validación y otro para pruebas. Esto se hace con el fin de evitar filtración de los datos o disminución de potencial ruido que se pueda generar. Generar dichos subsets nos permite construir un modelo más robusto y confiable."
      ]
    },
    {
      "cell_type": "code",
      "execution_count": 6,
      "metadata": {
        "id": "BSLHrsNTFMwK"
      },
      "outputs": [],
      "source": [
        "# Importamos numpy y SciKitLearn para extraer y seccionar los datos\n",
        "import numpy as np\n",
        "from sklearn.model_selection import train_test_split\n",
        "\n",
        "# Guardamos los datos de entrada y excluimos los datos de salida\n",
        "target = np.array(trainig_data['Survived'])\n",
        "# Guardamos los datos de salida para posteriores evaluaciones del modelo\n",
        "features = np.array(trainig_data.drop('Survived', axis = 1))\n",
        "\n",
        "# Dividimos los datos en sets de entrenamiento, validación y pruebas\n",
        "train_features, temp_features, train_targets, temp_targets  = train_test_split(features, target, test_size=0.4, random_state=42)\n",
        "val_features, test_features, val_targets, test_targets = train_test_split(temp_features, temp_targets, test_size=0.5, random_state=42)\n",
        "\n",
        "# Importamos el resto de librerías necesarias para crear el modelo, implementar GridSearch y medir métricas de rendimiento\n",
        "import tensorflow as tf\n",
        "from tensorflow import keras\n",
        "from sklearn.model_selection import train_test_split, GridSearchCV\n",
        "from sklearn.preprocessing import StandardScaler\n",
        "from sklearn.metrics import make_scorer, accuracy_score, accuracy_score, precision_score, recall_score, f1_score, confusion_matrix\n",
        "from keras.regularizers import l2\n",
        "import seaborn as sns\n",
        "import matplotlib.pyplot as plt\n",
        "import itertools\n",
        "import os"
      ]
    },
    {
      "cell_type": "markdown",
      "metadata": {
        "id": "iJPFd9P4tRTR"
      },
      "source": [
        "## Modelos preeliminares\n",
        "\n",
        "En la entrega pasada se probaron diferentes modelos de machine learning buscando el más apto para abordar la solución del reto. En total, se probaron 4 tipos de modelo diferentes: arboles de decisión, bosques aleatorios, Redes neuronales y máquinas de vectores de soporte; para cada tipo de modelo, se entrenaron 4 modelos diferentes variando los hiperparametros buscando encontrar los más apropiados para cada uno.\n",
        "\n",
        "Se evaluó el desempeño de los modelos generados usando una matriz de confusión, en la que se comparan los verdaderos positivos, verdadero negativo, falsos positivos y falsos negativos con la finalidad de extraer las metricas de rendimiento: exactitud, exhaustividad, precisión y F1. Se extrajo la mejor prueba de cada modelo con la finalidad de compararla contra los demás modelos tomando en cuenta el valor F1 para determinar el rendimiento general del modelo.\n",
        "\n",
        "El valor F1 se define de la siguiente manera:\n",
        "\n",
        "$F1 = 2 \\cdot \\frac{Precision \\cdot Recall}{Precision + Recall}$\n",
        "\n",
        "El valor F1 sirve como un equilibrio entre la presición y exhaustividad, además de que permite un mayor enfoque en los casos erroneos del problema. Decidimos emplearlo como metrica de desempeño ya que existe una gran disparidad entre nuestras categorías, dado que el número de fallecidos supera al de supervivientes 2 a 1, además de que suele recomendar su uso cuando las categorías tienen implicaciones o pesos diferentes, en este caso, consideramos que predecir si un pasajero vive o muere es una implicación con pesos diferentes.\n",
        "\n",
        "Para una descripción detallada de los modelos y metologías empleadas, puede consultar [este archivo](https://github.com/4lb3rt0r/TC3006_Equipo2/tree/main/retro/Reto%20Selección%2C%20configuración%20y%20entrenamiento%20del%20modelo).\n",
        "\n",
        "Los resultados obtenidos son los siguientes:\n",
        "\n",
        "| Prueba                     | Desempeño (Puntaje F1)|\n",
        "|----------------------------|-----------------------|\n",
        "| Prueba Árbol de Decisión 3 | 0,7746 |\n",
        "| Prueba Bosque Aleatorio 1  | 0,7619 |\n",
        "| Prueba Redes Neuronales 2  | 0,7821 |\n",
        "| Prueba SVM 1               | 0,7272 |\n",
        "\n",
        "De estos modelos, observamos que las redesneuronales tuvieron el mejor desempeño tomando en cuenta el valor F1. Por este motivo, decidimos desarrollar más en profundidad el modelo, y tomarlo como base para el modelo refinado de la solución final del reto.\n",
        "\n",
        "## Refinamiento del modelo\n",
        "\n",
        "Habiendo definido el modelo definitivo a utilizar para predecir de forma certera los datos de los supervivientes del Titanic, decidimos implementar una técnica comúnmente utilizada para optimizar y refinar los hiperparámetros de los modelos de Machine Learning. El objetivo es obtener la mejor configuración posible para nuestro modelo de *redes neuronales*, que demostró ofrecer los resultados más prometedores en comparación con otros enfoques, como Decision Trees, Random Forests y Support Vector Machine.\n",
        "Esta técnica de refinamiento se conoce como *Grid Search*, una herramienta ampliamente empleada para mejorar modelos de Machine Learning. Grid Search no se limita exclusivamente a redes neuronales; también se aplica con éxito en otros tipos de modelos, como Decision Trees, Support Vector Machines, Random Forests, Gradient Boosting, entre otros. Grid Search tiene la capacidad de buscar y mejorar los hiperparámetros de un modelo, que pueden incluir elementos como *batch_size, learning_rate (alpha), profundidad en Decision Trees, cantidad de neuronas y capas en redes neuronales, tipos de kernels, y muchos más ejemplos. A continuación presentaremos la implementación de esta metodología dentro de nuestro modelo de Neural Networks:"
      ]
    },
    {
      "cell_type": "markdown",
      "metadata": {
        "id": "Tj9t5SftJVQV"
      },
      "source": [
        "#### Definición de modelo mediante función de TensorFlow\n",
        "La definición del modelo se encuentra dentro de una función debido a que necesitamos probar el modelo con diversas configuraciones, esto con el fin de encontrar el que mejor resultados arroje:"
      ]
    },
    {
      "cell_type": "code",
      "execution_count": 13,
      "metadata": {
        "id": "Rsy-g5NpJVYU"
      },
      "outputs": [],
      "source": [
        "def create_model(optimizer='adam', activationL1='relu', activationL2='relu', activationL3='relu', neurons2=5, neurons3=10):\n",
        "    caracteristic_number = train_features_scaled.shape[1]  # Calculate the number of input features\n",
        "    model = keras.Sequential([\n",
        "        keras.layers.Dense(caracteristic_number, activation=activationL1, input_shape=(caracteristic_number,)),\n",
        "        keras.layers.Dense(neurons2, activation=activationL2),\n",
        "        keras.layers.Dense(neurons3, activation=activationL3),  # Adding another hidden layer\n",
        "        keras.layers.Dense(1, activation='sigmoid')\n",
        "    ])\n",
        "    model.compile(optimizer=optimizer, loss='mean_squared_error', metrics=['accuracy'])\n",
        "    return model"
      ]
    },
    {
      "cell_type": "markdown",
      "metadata": {
        "id": "iICMrvFPhvM5"
      },
      "source": [
        "#### Normalización de Datos"
      ]
    },
    {
      "cell_type": "code",
      "execution_count": 14,
      "metadata": {
        "id": "00Y445WJhvUo"
      },
      "outputs": [],
      "source": [
        "scaler = StandardScaler()\n",
        "\n",
        "train_features_scaled = scaler.fit_transform(train_features)\n",
        "val_features_scaled = scaler.transform(val_features)\n",
        "test_features_scaled = scaler.transform(test_features)"
      ]
    },
    {
      "cell_type": "markdown",
      "source": [
        "## **División del Dataset**\n",
        "\n",
        "En cuanto a la distribución de los datos, se ha planteado que se trabaje con 3 subsets distintos, esto con la finalidad de comprobar la evolución del comportamiento del modelo en etapas distintas de la implementación. Esta suele ser una muy buena práctica debido a que nos permite evaluar la forma en cómo cambia el error cuando la complejidad del algoritmo va aumentando. Es por ello, que la separación de los datos se define de la siguiente manera:"
      ],
      "metadata": {
        "id": "Dw_oqFX83VzV"
      }
    },
    {
      "cell_type": "markdown",
      "source": [
        "### **Training Set**\n",
        "\n",
        "El set de entrenamiento este compuesto de las variables *train_features* y *train_targets*. Estas dos son utilizadas dentro de la sección de entrenamiento, que sirve para que el modelo puedo probar algunos valores iniciales, entienda un poco del contexto de la situación y en base a ello pueda empezar a generar algunas cuántas predicciones que, con cada iteración, reduzca el valor del error lo más posible y esto le permita posteriormente proporcionar resultados coherentes y predicciones certeras."
      ],
      "metadata": {
        "id": "6P-QcRaJZqd2"
      }
    },
    {
      "cell_type": "markdown",
      "source": [
        "### **Validation Set**\n",
        "\n",
        "El set de validación este compuesto de las variables *val_features* y *val_targets*. Estas dos son utilizadas dentro de la sección de entrenamiento, que sirve para que el modelo puedo ser evaluado con una sección de los datos originales y medir qué tan bueno es su rendimiento."
      ],
      "metadata": {
        "id": "fS09LRDt5rPH"
      }
    },
    {
      "cell_type": "markdown",
      "source": [
        "### **Test Set**\n",
        "\n",
        "El set de pruebas esta compuesto de las variables *test_features* y *test_targets*. Estas dos son utilizadas dentro de la sección de predicciones, la cual consiste en que, en base al entrenamiento ya validación realizados previamente, el modelo empiece a recibir valores de entrada (*test_features*) sin recibir los valores de salida (*test_targets*), generando predicciones por si mismo, claro que se espera que teniendo un buen entrenamiento y un MSE pequeño, el rango de error de las pruebas sea de igual forma pequeño y muy preciso en comparación con los datos reales (*test_targets*)."
      ],
      "metadata": {
        "id": "0n-vN3XOZyPc"
      }
    },
    {
      "cell_type": "markdown",
      "metadata": {
        "id": "ZUjV3-qrKZme"
      },
      "source": [
        "## **Definimos el grid de parámetros o configuraciones a probar con el modelo**\n",
        "\n",
        "Para nuestro modelo, nos enfocamos en afinar los hiperparámetros relacionados con las funciones de activación, cantidad de capas, cantidad de neuronas y el optimizador, con el objetivo de lograr los mejores resultados de predicción posibles. Actualmente, nuestra meta es mejorar la exactitud del modelo, que actualmente se sitúa alrededor del 82%.\n",
        "\n",
        "En el caso de nuestro Grid Search, se probarón diferentes optimizadores, como \"adam\" y \"sgd\", se alternarón entre las funciones de activación \"relu\" y \"sigmoid\", se exploró con una cantidad de neuronas entre 50, 40 y 20 para la primera capa, 15, 10 y 5 para la segunda y 2, 5 y 10 para la tercera, la última capa se quedará fija con una neurona y función de activación “sigmoid”. Se evaluó el valor de \"epochs\" entre 5, 10, 20 y 30 iteraciones, y el \"batch_size\" variará entre 16, 32 y 64, lo que nos permitió evaluar diversas configuraciones y seleccionar la más adecuada para nuestro modelo.\n",
        "\n",
        "Para la primera prueba, definimos una configuración inicial del Grid Search como la mostrada a continuación:\n"
      ]
    },
    {
      "cell_type": "code",
      "execution_count": 15,
      "metadata": {
        "id": "Onar8u9-KZvd"
      },
      "outputs": [],
      "source": [
        "param_grid = {\n",
        "    'optimizer': ['adam', 'sgd', 'adagrad', 'rmsprop'],\n",
        "    'activationL1': ['relu', 'sigmoid', 'tanh'],\n",
        "    'activationL2': ['relu', 'sigmoid', 'tanh'],\n",
        "    'activationL3': ['relu', 'sigmoid', 'tanh'],\n",
        "    'neurons2': [10, 20, 25, 30],\n",
        "    'neurons3': [10, 15, 20, 25],\n",
        "    'epochs': [50],\n",
        "    'batch_size': [15, 20, 30, 60]\n",
        "}"
      ]
    },
    {
      "cell_type": "markdown",
      "source": [
        "La idea es tomar el mejor modelo que arroje el GridSearch, implementar la técninca de regularización L2, fijar algunos hiperparámetros y variar los que resulten más relevantes o aporten a un modelo más preciso."
      ],
      "metadata": {
        "id": "8jiMh6X2mpu2"
      }
    },
    {
      "cell_type": "markdown",
      "source": [
        "### Aplicamos una búsqueda de los mejores hiperparámetros\n",
        "\n",
        "El código de configuración del Grid Search evaluará cada una de estas configuraciones, alternará entre las opciones proporcionadas y comparará los resultados. Este proceso se repetirá hasta encontrar el conjunto de hiperparámetros que se consideren más óptimos en función de los resultados generados. Implica probar múltiples combinaciones de hiperparámetros, entrenar el modelo con cada una de ellas, registrar los resultados y comparar el rendimiento de cada uno para finalmente seleccionar el mejor modelo.\n",
        "\n",
        "**Nota:** La razón por la cual ya no se utiizó GridSearch es que este se rompió dentro del entorno de Google Colab y algunas funcionalidades se volvieron obsoletas. Por ello opte por aplicar un for loop convencional:"
      ],
      "metadata": {
        "id": "lBtcFfV7s4rc"
      }
    },
    {
      "cell_type": "code",
      "source": [
        "# Inicializa las variables para hacer un seguimiento de los mejores hiperparámetros y la mejor puntuación\n",
        "best_params = None\n",
        "best_score = float('inf')  # Inicializa con un valor alto para problemas de minimización\n",
        "mse_values = []\n",
        "\n",
        "# Itera sobre todas las combinaciones posibles de hiperparámetros\n",
        "param_combinations = list(itertools.product(*param_grid.values()))\n",
        "\n",
        "for params in param_combinations:\n",
        "    optimizer, activationL1, activationL2, activationsL3, neurons2, neurons3, epochs, batch_size = params\n",
        "\n",
        "    # Crea el modelo con los hiperparámetros actuales\n",
        "    modelo = create_model(optimizer, activationL1, activationL2, activationsL3, neurons2, neurons3)\n",
        "\n",
        "    # Entrena tu modelo (deberías tener tus datos de entrenamiento y validación)\n",
        "    history = modelo.fit(train_features_scaled, train_targets, epochs=epochs, batch_size=batch_size, validation_data=(val_features_scaled, val_targets), verbose=0)\n",
        "\n",
        "    # Evalúa tu modelo\n",
        "    val_loss, val_accuracy = modelo.evaluate(val_features_scaled, val_features)\n",
        "\n",
        "    # Actualiza los mejores hiperparámetros y la mejor puntuación si el modelo actual es mejor\n",
        "    if val_loss < best_score:\n",
        "        best_loss = val_loss\n",
        "        best_accuracy = val_accuracy\n",
        "        best_params = params\n",
        "\n",
        "print(\"Parameter Grid Configuration:\")\n",
        "for key, value in param_grid.items():\n",
        "    print(f\"{key}: {value}\")\n",
        "\n",
        "# Imprime los mejores hiperparámetros y la mejor puntuación\n",
        "print(\"Mejores Hiperparámetros:\", best_params)\n",
        "print(\"Mejor Pérdida en Validación:\", best_score)\n",
        "print(\"Best Accuracy on Validation:\", best_accuracy)"
      ],
      "metadata": {
        "id": "oZ61q_Z4s4vp"
      },
      "execution_count": null,
      "outputs": []
    },
    {
      "cell_type": "markdown",
      "metadata": {
        "id": "SuRcP5ib9GO3"
      },
      "source": [
        "#### Registramos los resultados en un archivo de salida"
      ]
    },
    {
      "cell_type": "code",
      "execution_count": 20,
      "metadata": {
        "id": "2U9g1c319H3f"
      },
      "outputs": [],
      "source": [
        "# Guardamos los mejores hiperparámetros y resultados de rendimiento dentro de un archivo txt\n",
        "# ***Modificar de ser necesario***\n",
        "output_path = \"/content/drive/MyDrive/Equipo 2 - TC3006/Reto - Algoritmos ML\"\n",
        "output_file = os.path.join(output_path, \"hyperparameter_results.txt\")\n",
        "\n",
        "if not os.path.isfile(output_file):\n",
        "    with open(output_file, 'w') as f:\n",
        "        f.write(\"Hyperparameter Search Results:\\n\")\n",
        "\n",
        "with open(output_file, 'a') as f:\n",
        "    f.write(f\"\\nBest Score: {best_score}\\n\")\n",
        "    f.write(f\"Best Parameters: {best_params}\\n\")\n",
        "    f.write(\"Parameter Grid:\\n\")\n",
        "    for key, value in param_grid.items():\n",
        "        f.write(f\"{key}: {value}\\n\")\n",
        "    f.write(f\"\\nTest Accuracy: {best_accuracy * 100:.2f}%\\n\")"
      ]
    },
    {
      "cell_type": "markdown",
      "metadata": {
        "id": "kMuXC9TLXQqI"
      },
      "source": [
        "### Probamos el modelo con los parámetros sugeridos con efecto de regularización\n",
        "Además de probar los hiperparámetros que el algoritmos de GridSearch determinó como la mejor configuración encontrada, decidimos implementar una técnica de regularización con el fin de regularizar aún más el comportamiento del modelo, y obtener mejores resultados en cuanto a estimaciones como en métricas de error.\n",
        "\n",
        "El efecto de regularización elegido se conoce como **l2**, que nos permite reducir el overfitting que pueda presentar el modelo. Básicamente añade un término de penalización a la función de pérdida que reduce al modelo de asignar pesaos excesivamente largos a sus parámetros. Básicamente se traduce como la suma de lso cuadrados de todos los parámetros del modelo y es añadido a la función de pérdida durante el entrenamiento."
      ]
    },
    {
      "cell_type": "code",
      "execution_count": 51,
      "metadata": {
        "id": "VP4Kqt6fXQzm"
      },
      "outputs": [],
      "source": [
        "caracteristic_number = train_features_scaled.shape[1]  # Calculate the number of input features\n",
        "model = keras.Sequential([\n",
        "  keras.layers.Dense(caracteristic_number, activation='relu', input_shape=(caracteristic_number,)),\n",
        "  keras.layers.Dense(15, activation='relu', kernel_regularizer=keras.regularizers.l2(0.02)),\n",
        "  keras.layers.Dense(2, activation='sigmoid', kernel_regularizer=keras.regularizers.l2(0.09)),\n",
        "  keras.layers.Dense(1, activation='relu')\n",
        "])\n",
        "\n",
        "# Compilamos la red neuronal\n",
        "model.compile(optimizer='adam', loss='mean_squared_error', metrics=['accuracy'])"
      ]
    },
    {
      "cell_type": "code",
      "execution_count": null,
      "metadata": {
        "id": "kqhCzD-ZPGfV"
      },
      "outputs": [],
      "source": [
        "# Entrenamos el modelo con el set de pruebas\n",
        "history = model.fit(train_features_scaled, train_targets, epochs=30, batch_size=60)"
      ]
    },
    {
      "cell_type": "markdown",
      "source": [
        "### Realizamos las predicciones con el subset de pruebas"
      ],
      "metadata": {
        "id": "T5TUO6w8O30L"
      }
    },
    {
      "cell_type": "code",
      "execution_count": 53,
      "metadata": {
        "id": "RYviGvHrl5bd",
        "colab": {
          "base_uri": "https://localhost:8080/"
        },
        "outputId": "90cf7bca-f58a-466e-f00a-45fd974f6d4e"
      },
      "outputs": [
        {
          "output_type": "stream",
          "name": "stdout",
          "text": [
            "3/3 [==============================] - 0s 4ms/step\n",
            "[1, 1, 1, 1, 1, 1, 1, 0, 0, 0, 0, 0, 0, 1, 0, 1, 1, 1, 0, 1, 0, 0, 1, 1, 0, 0, 0, 1, 0, 1, 1, 0, 0, 1, 1, 0, 1, 1, 1, 1, 0, 0, 0, 0, 1, 1, 0, 1, 0, 0, 0, 1, 0, 1, 0, 0, 0, 0, 1, 1, 1, 1, 1, 0, 1, 1, 1, 0, 0, 1, 0, 0, 1, 1, 0, 1, 1, 1, 1, 1, 0, 1, 1, 0, 0, 0, 0, 0, 0, 0]\n"
          ]
        }
      ],
      "source": [
        "predictions = model.predict(test_features_scaled)\n",
        "\n",
        "survided_predictions = predictions\n",
        "\n",
        "binary_predictions = [1 if prob >= 0.5 else 0 for prob in survided_predictions]\n",
        "print(binary_predictions)"
      ]
    },
    {
      "cell_type": "markdown",
      "metadata": {
        "id": "Rkh4EzhzV8e4"
      },
      "source": [
        "#### Evaluación de Rendimiento del Modelo\n",
        "Para evaluar el rendimiento de nuestro modelo, hemos decidido elegir las métricas o indicadores más convencionales para medir el rendimiento y la fiabilidad del mismo, que son las siguientes:\n",
        "\n",
        "* **Accuracy (Exactitud):** Este nos permitirá conocer la proporción de instancias que fueron clasficadas correctamente del resto por el modelo. Básicamente, proporciona una medida general de cómo es que el modelo, en términos de clasificar correctamente tanto verdaderos positivos y verdaderos negativos.\n",
        "\n",
        "* **Precision (Precisión):** La precisión nos será útil para medir la precisión del modelo con respecto a predicciones positivas. Da respuesta a la pregunta \"*De todas las instancias estimadas por el modelo ¿cuántas de ellas fueron positivas?*\" Entre mayor sea este valor, indica que el modelo es bueno al evitar falsos positivos.\n",
        "\n",
        "* **Recall (Exhaustividad):** Este mide la habilidad del modelo para identificar todas las instancias relevantes dentro del dataset. Si llegamos a obtener un valor de \"recall\" alto, esto indica que el modelo raramente se equivoca en casos positivos. Esta métrica es importante cuando los casos positivos faltantes son bastante costosos, un ejemplo serían diagnósticos médicos.\n",
        "\n",
        "* **F1-Score (Métrica F1):** La métrica F1 es la media armónica de la precisión con respecto a la exhaustividad. Este condensa el intercambio de *precision* con *recall* en una sola misma métrica. Un alto valor de \"F1-Score\" nos puede indicar que el modelo demuestra un rendimiento destacado en términos de las variables que considera (*precision* y *recall*). Sería realmente útil al momento de balancear la precision y la exhaustividad o bien para identificar una distribución de métrcias desigual en nuestro modelo.\n",
        "\n",
        "* **Matriz de Confusión (Confusion Matrix):** La matriz de confusión es una tabla que provee una descripción detallada del rendimiento del modelo al proyectar las cuentas de verdaderos positivos, falsos positivos, verdaderos negativos y falsos negativos. Nos permite identificar errores específicos que el modelo presenta y es muy fácil de interpretar. Este recurso resulta ser valioso, especialemente cuando se necesita evaluar y mejorar el rendimiento del modelo."
      ]
    },
    {
      "cell_type": "code",
      "execution_count": 54,
      "metadata": {
        "id": "PsLMoD2Of20o",
        "colab": {
          "base_uri": "https://localhost:8080/",
          "height": 633
        },
        "outputId": "bf62f455-6cd8-4908-924c-955841fe1eca"
      },
      "outputs": [
        {
          "output_type": "display_data",
          "data": {
            "text/plain": [
              "<Figure size 800x600 with 1 Axes>"
            ],
            "image/png": "[encoded data removed]"
          },
          "metadata": {}
        },
        {
          "output_type": "stream",
          "name": "stdout",
          "text": [
            "Accuracy: 0.7555555555555555\n",
            "Precision: 0.6304347826086957\n",
            "Recall: 0.8529411764705882\n",
            "F1 Score: 0.725\n"
          ]
        }
      ],
      "source": [
        "accuracy = accuracy_score(test_targets, binary_predictions)\n",
        "precision = precision_score(test_targets, binary_predictions)\n",
        "recall = recall_score(test_targets, binary_predictions)\n",
        "f1 = f1_score(test_targets, binary_predictions)\n",
        "\n",
        "conf_matrix = confusion_matrix(test_targets, binary_predictions)\n",
        "\n",
        "plt.figure(figsize=(8,6))\n",
        "sns.heatmap(conf_matrix, annot=True, fmt='d', cmap='Blues', cbar=False,\n",
        "            xticklabels=['Not Survived', 'Survided'],\n",
        "            yticklabels=['Not Survided', 'Survided'])\n",
        "\n",
        "plt.xlabel('Predicted')\n",
        "plt.ylabel('Actual')\n",
        "plt.title('Confusion Matrix')\n",
        "plt.show()\n",
        "\n",
        "print(\"Accuracy:\", accuracy)\n",
        "print(\"Precision:\", precision)\n",
        "print(\"Recall:\", recall)\n",
        "print(\"F1 Score:\", f1)"
      ]
    },
    {
      "cell_type": "markdown",
      "metadata": {
        "id": "OXbw3Z-AhVis"
      },
      "source": [
        "Como podemos observar tanto en la matriz de confusión como en los valores de las métricas de rendimiento, a diferencia de la primera matriz se obtuvieron valores más reducidos. Por ejemplo, en el modelo refinado sin aplicar metodologías de regularización se obtuvo un valor de *accuracy* o exactitud de **82%**, mientras que con la regularización se obtuvo un valor de **80%**. Al ser la regularización otra variable que necesita de muchas pruebas para encontrar su valor óptimo y que su impacto se refleje en los resultados, no se espera que mejorara los resultados del modelo refinado. Es por ello que al jugar un poco con este valor, decidimos que sería mejor implementar regularización en 2 secciones entre capas, esto debido a la cantidad de capas existentes del modelo:\n",
        "\n",
        "```\n",
        "dropout_rate_1 = 0.53952\n",
        "dropout_rate_2 = 0.46569\n",
        "```\n",
        "Hasta ahora, estos 2 valores nos han otorgado resultados bastante buenos con respecto a métricas y matriz de riesgos:\n",
        "\n",
        "\n",
        "![image.png](data:image/png;base64,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)\n",
        "<br/>\n",
        "* Accuracy: 0.8\n",
        "* Precision: 0.7629625686226\n",
        "* Recall: 0.7058823529411765\n",
        "* F1 Score: 0.7164179104477613\n"
      ]
    },
    {
      "cell_type": "markdown",
      "metadata": {
        "id": "QV4bWCL5t1FJ"
      },
      "source": [
        "## Resultados\n",
        "\n",
        "El algoritmo arrojó resultados algo peculiares, y es que al parecer está eligiendo una combinación de hiper-parámetros que no resultan ser muy distintos o mejores en comparación a la configuración que teníamos previamente en entregas anteriores. Además, el código para implementar GridSearch demora demasiado en ejecutarse, por lo que no nos fue posible probar con gran cantidad de combinaciones, más problemas de conexión o fallos del código posterior a la implementación del GridSearch. A pesar de ello, logramos probar algunas configuraciones, que podrán no ser las que mejor redimiento representan, pero son los resultados que nos proporcionó esta metodología hasta el momento:\n",
        "\n",
        "\n",
        "| Configuración Original de la Red Neuronal        | Hyperparameter GridSearch Results              | Hyperparameter GridSearch Results              | Hyperparameter GridSearch Results              |\n",
        "|--------------------------------------------------|--------------------------------------------------|--------------------------------------------------|--------------------------------------------------|\n",
        "| Best Score: 0.8212290502793296                   | Best Score: 0.8160243000153647                   | Best Score: 0.8188313300003546                   | Best Score: 0.8230448297462445                   |\n",
        "| Best Parameters:                                 | Best Parameters:                                 | Best Parameters:                                 | Best Parameters:                                 |\n",
        "| - 'activation': 'relu'                          | - 'activation': 'relu'                          | - 'activation': 'relu'                          | - 'activation': 'relu'                          |\n",
        "| - 'batch_size': 32                              | - 'batch_size': 64                              | - 'batch_size': 32                              | - 'batch_size': 16                              |\n",
        "| - 'epochs': 50                                  | - 'epochs': 50                                  | - 'epochs': 30                                  | - 'epochs': 20                                  |\n",
        "| - 'neurons1': 50                               | - 'neurons1': 50                               | - 'neurons1': 10                               | - 'neurons_per_layer': 20                      |\n",
        "| - 'neurons2': 15                               | - 'neurons2': 15                               | - 'neurons2': 15                               | - 'num_layers': 2                              |\n",
        "| - 'neurons3': 75                               | - 'neurons3': 75                               | - 'neurons3': 6                                | - 'optimizer': 'adam'                         |\n",
        "| - 'optimizer': 'adam'                          | - 'optimizer': 'adam'                          | - 'optimizer': 'adam'                          | - 'activation': 'relu'                         |\n",
        "| Parameter Grid:                                  | Parameter Grid:                                  | Parameter Grid:                                  | Parameter Grid:                                  |\n",
        "| - optimizer: ['adam']                           | - optimizer: ['adam', 'sgd']                   | - optimizer: ['adam', 'sgd']                   | - optimizer: ['adam', 'sgd']                   |\n",
        "| - activation: ['relu', 'sigmoid']               | - activation: ['relu', 'sigmoid']               | - activation: ['relu', 'sigmoid', 'softmax', 'tanh'] | - activation: ['relu', 'sigmoid', 'softmax', 'tanh'] |\n",
        "| - neurons1: [50]                               | - neurons1: [50, 100]                         | - neurons1: [5, 10]                           | - num_layers: [1, 2, 3]                        |\n",
        "| - neurons2: [5]                                | - neurons2: [30, 15]                          | - neurons2: [10, 15]                         | - neurons_per_layer: [5, 10, 15, 20]           |\n",
        "| - neurons3: [10]                               | - neurons3: [75, 40]                          | - neurons3: [6, 12]                           | - epochs: [5, 10, 20, 30]                      |\n",
        "| - epochs: [50]                                 | - epochs: [50, 100]                           | - epochs: [5, 10, 20, 30]                      | - batch_size: [16, 32, 64]                     |\n",
        "| - batch_size: [32]                             | - batch_size: [32, 64]                         | - batch_size: [16, 32, 64]                     | Test Accuracy: 79.89%                           |\n",
        "|--------------------------------------------------|--------------------------------------------------|--------------------------------------------------|--------------------------------------------------|\n",
        "| Test Accuracy: 81.01%                           | Test Accuracy: 79.89%                           | Test Accuracy: 79.89%                           | Test Accuracy: 79.89%                           |\n",
        "\n",
        "\n",
        "## Conclusiones\n",
        "\n",
        "El procedimiento de Grid Search es una búsqueda exhaustiva que genera candidatos tentativos para los hiperparámetros que mejor se ajusten al modelo y a los datos de entrada, en este caso, el conjunto de datos del Titanic. Esto nos permite explorar diversas opciones y configuraciones para encontrar la que proporcione los resultados óptimos y se adapte mejor al contexto del problema. Decidimos que esta metodología es una de las mejores opciones que pudimos elegir para probar múltiples configuraciones, compararlas y clasificarlas de acuerdo a su rendimiento y mejoramiento de resultados en comparación con los obtenidos previamente en entregas pasadas, que es de 82% de accuracy aproximadamente. El factor que influencia bastante los resultados de esta entrega fue el tiempo, el método demora demasiado tiempo en ejecutarse y en probar las distintas opciones que le proporcionamos, es por ello que seguiremos intentando implementar GridSearch previo a la entrega final para obtener la configuración más óptima de nuestro modelo.\n",
        "\n",
        "Aún teniendo estos resultados, creemos firmemente que esta configuración existe, y se puede maximizar el rendimiento de las redes neuronales para este caso, inclusive para llegar al menos a un 85% de accuracy o tal vez si somos optimistas acercarnos al 90%. Al final de todo, se trata del uso de un algoritmo básico de Machine Learning que busca generar una clasificación binaria no tan compleja como podrían serlo otros algoritmos que necesitan de una cantidad exorbitante de datos para realizar predicciones certeras según su contexto. Lo importante ante esta situación es tener en cuenta todo el procedimiento que llevamos a cabo y aprender cómo es que se lleva a cabo la construcción de un modelo de aprendizaje máquina desde la limpieza de datos, investigación, identificación de los modelos, hasta la implementación, selección, refinamiento y regularización.\n",
        "\n",
        "\n",
        "## Referencias\n",
        "\n",
        "* 3.2. Tuning the hyper-parameters of an estimator. (s. f.). scikit-learn. https://scikit-learn.org/stable/modules/grid_search.html"
      ]
    }
  ],
  "metadata": {
    "colab": {
      "provenance": []
    },
    "kernelspec": {
      "display_name": "Python 3",
      "name": "python3"
    },
    "language_info": {
      "name": "python"
    }
  },
  "nbformat": 4,
  "nbformat_minor": 0
}